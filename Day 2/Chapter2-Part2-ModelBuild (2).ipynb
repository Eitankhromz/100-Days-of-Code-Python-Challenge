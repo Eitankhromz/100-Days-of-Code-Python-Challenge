{
 "cells": [
  {
   "cell_type": "markdown",
   "metadata": {},
   "source": [
    "# <font color=dimgray>Chapter 2 ~ Housing Prices "
   ]
  },
  {
   "cell_type": "markdown",
   "metadata": {},
   "source": [
    "<font color=dimgray>Part 2 ~ Building & Tuning Machine Learning Models"
   ]
  },
  {
   "cell_type": "markdown",
   "metadata": {},
   "source": [
    "<font color=red>Assumes you have completed <u>Part 1</u> ~ Data Exploration</font> "
   ]
  },
  {
   "cell_type": "markdown",
   "metadata": {},
   "source": [
    "## <font color=blue>Import needed modules</font>"
   ]
  },
  {
   "cell_type": "code",
   "execution_count": 1,
   "metadata": {},
   "outputs": [],
   "source": [
    "##!pip install scikit-learn-intelex  #install patches to speed up processing (only need to run this ONCE on your computer or Colab session)\n",
    "#from sklearnex import patch_sklearn #import the patches\n",
    "#patch_sklearn()"
   ]
  },
  {
   "cell_type": "code",
   "execution_count": 2,
   "metadata": {},
   "outputs": [],
   "source": [
    "#general libraries needed\n",
    "import pandas as pd\n",
    "import numpy as np\n",
    "from scipy import stats\n",
    "from scipy.stats import randint\n",
    "\n",
    "#scikit learn imports\n",
    "from sklearn.linear_model import LinearRegression\n",
    "from sklearn.metrics import mean_squared_error\n",
    "from sklearn.model_selection import train_test_split, GridSearchCV, RandomizedSearchCV, cross_val_score\n",
    "from sklearn.impute import SimpleImputer\n",
    "from sklearn.preprocessing import OneHotEncoder, StandardScaler\n",
    "from sklearn.compose import ColumnTransformer\n",
    "from sklearn.pipeline import Pipeline\n",
    "from sklearn.tree import DecisionTreeRegressor\n",
    "from sklearn.ensemble import RandomForestRegressor\n",
    "\n",
    "#not necessary but helps to visualize pipelines and models\n",
    "from sklearn import set_config\n",
    "set_config(display='diagram')"
   ]
  },
  {
   "cell_type": "markdown",
   "metadata": {},
   "source": [
    "## <font color=blue>Function Definitions</font>"
   ]
  },
  {
   "cell_type": "code",
   "execution_count": 3,
   "metadata": {},
   "outputs": [],
   "source": [
    "#function to verify the existence of a file in the current working directory and download it if not\n",
    "import os,urllib, urllib.request, sys, tarfile\n",
    "def downloadDataResource(file,sourcePath,compressed=None):\n",
    "    if not os.path.isfile(file):\n",
    "        try:\n",
    "            urllib.request.urlretrieve(sourcePath+(compressed if compressed else file),(compressed if compressed else file))\n",
    "            print(\"Downloaded\", (compressed if compressed else file) )\n",
    "            if compressed:\n",
    "                ucomp = tarfile.open(compressed)\n",
    "                ucomp.extractall()\n",
    "                ucomp.close()\n",
    "                print(\"File uncompressed.\")\n",
    "        except:\n",
    "            print(\"ERROR: File\", (compressed if compressed else file), \"not found. Data source missing.\")\n",
    "    else:\n",
    "        print(\"Data resource\", file, \"already downloaded.\")"
   ]
  },
  {
   "cell_type": "markdown",
   "metadata": {},
   "source": [
    "## <font color=blue>Source Data</font>"
   ]
  },
  {
   "cell_type": "code",
   "execution_count": 4,
   "metadata": {},
   "outputs": [
    {
     "name": "stdout",
     "output_type": "stream",
     "text": [
      "Data resource housing.csv already downloaded.\n"
     ]
    }
   ],
   "source": [
    "path = 'https://raw.githubusercontent.com/ageron/handson-ml2/master/datasets/housing/'\n",
    "compressedfile = \"housing.tgz\"\n",
    "filename = 'housing.csv'\n",
    "\n",
    "#download data files if not currently downloaded into the current working directory\n",
    "downloadDataResource(filename, path, compressedfile)\n",
    "\n",
    "#create the dataframe\n",
    "housing = pd.read_csv(filename)"
   ]
  },
  {
   "cell_type": "markdown",
   "metadata": {},
   "source": [
    "## <font color=blue>Engineer the Data for Analysis</font>"
   ]
  },
  {
   "cell_type": "code",
   "execution_count": 5,
   "metadata": {},
   "outputs": [],
   "source": [
    "#add features to our dataframe - the ratio of rooms and population per household\n",
    "housing[\"rooms_per_household\"] = housing[\"total_rooms\"]/housing[\"households\"]\n",
    "housing[\"population_per_household\"]=housing[\"population\"]/housing[\"households\"]\n",
    "housing[\"bedrooms_per_room\"] = housing[\"total_bedrooms\"]/housing[\"total_rooms\"]"
   ]
  },
  {
   "cell_type": "code",
   "execution_count": 6,
   "metadata": {},
   "outputs": [],
   "source": [
    "#create a new attribute that cuts (pandas cut function) Median Income into 5 different bins\n",
    "housing[\"income_cat\"] = pd.cut(housing[\"median_income\"],\n",
    "                               bins=[0., 1.5, 3.0, 4.5, 6., np.inf],\n",
    "                               labels=[1, 2, 3, 4, 5])"
   ]
  },
  {
   "cell_type": "code",
   "execution_count": 7,
   "metadata": {},
   "outputs": [
    {
     "data": {
      "text/plain": [
       "(20640, 14)"
      ]
     },
     "execution_count": 7,
     "metadata": {},
     "output_type": "execute_result"
    }
   ],
   "source": [
    "#look at the size of the data set (number of rows x number of columns)\n",
    "housing.shape"
   ]
  },
  {
   "cell_type": "markdown",
   "metadata": {},
   "source": [
    "## <font color=blue>Create Training and Test Datasets </font>"
   ]
  },
  {
   "cell_type": "markdown",
   "metadata": {},
   "source": [
    "### Create a Stratified Sampling based on <i>Medium Income"
   ]
  },
  {
   "cell_type": "code",
   "execution_count": 8,
   "metadata": {},
   "outputs": [],
   "source": [
    "#by adding the stratify feature to the train_test_split, can ensure a more representative collection of data\n",
    "X_train, X_test, y_train, y_test = train_test_split(\n",
    "    housing.drop(columns=['median_house_value']),\n",
    "    housing.median_house_value, \n",
    "    test_size=0.2, \n",
    "    random_state=42, \n",
    "    stratify=housing.income_cat\n",
    ")"
   ]
  },
  {
   "cell_type": "code",
   "execution_count": 9,
   "metadata": {},
   "outputs": [],
   "source": [
    "#now that we have the stratified test and training sets, no need for attribute income_cat in those sets\n",
    "X_train.drop(columns=[\"income_cat\"], inplace=True)\n",
    "X_test.drop(columns=[\"income_cat\"], inplace=True)"
   ]
  },
  {
   "cell_type": "code",
   "execution_count": 10,
   "metadata": {},
   "outputs": [
    {
     "data": {
      "text/plain": [
       "((16512, 12), (16512,), (4128, 12), (4128,))"
      ]
     },
     "execution_count": 10,
     "metadata": {},
     "output_type": "execute_result"
    }
   ],
   "source": [
    "#ensure a good copy of the stratified training dataset and create our X and y for linear regression\n",
    "housing = X_train.copy()        #changing name to be consistent with the book\n",
    "housing_labels = y_train.copy() #changing name to be consistent with the book\n",
    "\n",
    "#show the size of the data sets\n",
    "housing.shape, housing_labels.shape, X_test.shape, y_test.shape"
   ]
  },
  {
   "cell_type": "code",
   "execution_count": 11,
   "metadata": {},
   "outputs": [
    {
     "data": {
      "text/plain": [
       "['longitude',\n",
       " 'latitude',\n",
       " 'housing_median_age',\n",
       " 'total_rooms',\n",
       " 'total_bedrooms',\n",
       " 'population',\n",
       " 'households',\n",
       " 'median_income',\n",
       " 'rooms_per_household',\n",
       " 'population_per_household',\n",
       " 'bedrooms_per_room']"
      ]
     },
     "execution_count": 11,
     "metadata": {},
     "output_type": "execute_result"
    }
   ],
   "source": [
    "#define variables needed to seperate numeric attributes from categorical attributes\n",
    "cat_attribs = [\"ocean_proximity\"]\n",
    "num_attribs = list( housing.drop(columns=cat_attribs) )\n",
    "\n",
    "#list the numeric attributes\n",
    "num_attribs"
   ]
  },
  {
   "cell_type": "markdown",
   "metadata": {},
   "source": [
    "### Prepare Data using a Pipeline"
   ]
  },
  {
   "cell_type": "code",
   "execution_count": 12,
   "metadata": {},
   "outputs": [],
   "source": [
    "#define pipeline for numeric attributes (this code is just a definition)\n",
    "#each numeric attribute will be imputated using the Median strategy\n",
    "#each numeric attribute will be scaled \n",
    "\n",
    "num_pipeline = Pipeline( [\n",
    " ('imputer', SimpleImputer(strategy=\"median\")),\n",
    " ('std_scaler', StandardScaler()),   \n",
    "])"
   ]
  },
  {
   "cell_type": "code",
   "execution_count": 13,
   "metadata": {},
   "outputs": [],
   "source": [
    "#define transformation pipeline for both numeric and category attributes in the dataframe\n",
    "#numeric attributed will be processed by the num_pipeline defined above\n",
    "#the category ocean proximity will be transformed using the One Hot Encoder method\n",
    "\n",
    "full_pipeline = ColumnTransformer( [\n",
    "    ('num', num_pipeline, num_attribs),\n",
    "    ('cat', OneHotEncoder(sparse=False), cat_attribs)\n",
    "])"
   ]
  },
  {
   "cell_type": "code",
   "execution_count": 14,
   "metadata": {},
   "outputs": [
    {
     "data": {
      "text/html": [
       "<style>#sk-2177c700-3a73-42fe-b23f-e8a291fe8b50 {color: black;background-color: white;}#sk-2177c700-3a73-42fe-b23f-e8a291fe8b50 pre{padding: 0;}#sk-2177c700-3a73-42fe-b23f-e8a291fe8b50 div.sk-toggleable {background-color: white;}#sk-2177c700-3a73-42fe-b23f-e8a291fe8b50 label.sk-toggleable__label {cursor: pointer;display: block;width: 100%;margin-bottom: 0;padding: 0.3em;box-sizing: border-box;text-align: center;}#sk-2177c700-3a73-42fe-b23f-e8a291fe8b50 label.sk-toggleable__label-arrow:before {content: \"▸\";float: left;margin-right: 0.25em;color: #696969;}#sk-2177c700-3a73-42fe-b23f-e8a291fe8b50 label.sk-toggleable__label-arrow:hover:before {color: black;}#sk-2177c700-3a73-42fe-b23f-e8a291fe8b50 div.sk-estimator:hover label.sk-toggleable__label-arrow:before {color: black;}#sk-2177c700-3a73-42fe-b23f-e8a291fe8b50 div.sk-toggleable__content {max-height: 0;max-width: 0;overflow: hidden;text-align: left;background-color: #f0f8ff;}#sk-2177c700-3a73-42fe-b23f-e8a291fe8b50 div.sk-toggleable__content pre {margin: 0.2em;color: black;border-radius: 0.25em;background-color: #f0f8ff;}#sk-2177c700-3a73-42fe-b23f-e8a291fe8b50 input.sk-toggleable__control:checked~div.sk-toggleable__content {max-height: 200px;max-width: 100%;overflow: auto;}#sk-2177c700-3a73-42fe-b23f-e8a291fe8b50 input.sk-toggleable__control:checked~label.sk-toggleable__label-arrow:before {content: \"▾\";}#sk-2177c700-3a73-42fe-b23f-e8a291fe8b50 div.sk-estimator input.sk-toggleable__control:checked~label.sk-toggleable__label {background-color: #d4ebff;}#sk-2177c700-3a73-42fe-b23f-e8a291fe8b50 div.sk-label input.sk-toggleable__control:checked~label.sk-toggleable__label {background-color: #d4ebff;}#sk-2177c700-3a73-42fe-b23f-e8a291fe8b50 input.sk-hidden--visually {border: 0;clip: rect(1px 1px 1px 1px);clip: rect(1px, 1px, 1px, 1px);height: 1px;margin: -1px;overflow: hidden;padding: 0;position: absolute;width: 1px;}#sk-2177c700-3a73-42fe-b23f-e8a291fe8b50 div.sk-estimator {font-family: monospace;background-color: #f0f8ff;border: 1px dotted black;border-radius: 0.25em;box-sizing: border-box;margin-bottom: 0.5em;}#sk-2177c700-3a73-42fe-b23f-e8a291fe8b50 div.sk-estimator:hover {background-color: #d4ebff;}#sk-2177c700-3a73-42fe-b23f-e8a291fe8b50 div.sk-parallel-item::after {content: \"\";width: 100%;border-bottom: 1px solid gray;flex-grow: 1;}#sk-2177c700-3a73-42fe-b23f-e8a291fe8b50 div.sk-label:hover label.sk-toggleable__label {background-color: #d4ebff;}#sk-2177c700-3a73-42fe-b23f-e8a291fe8b50 div.sk-serial::before {content: \"\";position: absolute;border-left: 1px solid gray;box-sizing: border-box;top: 2em;bottom: 0;left: 50%;}#sk-2177c700-3a73-42fe-b23f-e8a291fe8b50 div.sk-serial {display: flex;flex-direction: column;align-items: center;background-color: white;padding-right: 0.2em;padding-left: 0.2em;}#sk-2177c700-3a73-42fe-b23f-e8a291fe8b50 div.sk-item {z-index: 1;}#sk-2177c700-3a73-42fe-b23f-e8a291fe8b50 div.sk-parallel {display: flex;align-items: stretch;justify-content: center;background-color: white;}#sk-2177c700-3a73-42fe-b23f-e8a291fe8b50 div.sk-parallel::before {content: \"\";position: absolute;border-left: 1px solid gray;box-sizing: border-box;top: 2em;bottom: 0;left: 50%;}#sk-2177c700-3a73-42fe-b23f-e8a291fe8b50 div.sk-parallel-item {display: flex;flex-direction: column;position: relative;background-color: white;}#sk-2177c700-3a73-42fe-b23f-e8a291fe8b50 div.sk-parallel-item:first-child::after {align-self: flex-end;width: 50%;}#sk-2177c700-3a73-42fe-b23f-e8a291fe8b50 div.sk-parallel-item:last-child::after {align-self: flex-start;width: 50%;}#sk-2177c700-3a73-42fe-b23f-e8a291fe8b50 div.sk-parallel-item:only-child::after {width: 0;}#sk-2177c700-3a73-42fe-b23f-e8a291fe8b50 div.sk-dashed-wrapped {border: 1px dashed gray;margin: 0 0.4em 0.5em 0.4em;box-sizing: border-box;padding-bottom: 0.4em;background-color: white;position: relative;}#sk-2177c700-3a73-42fe-b23f-e8a291fe8b50 div.sk-label label {font-family: monospace;font-weight: bold;background-color: white;display: inline-block;line-height: 1.2em;}#sk-2177c700-3a73-42fe-b23f-e8a291fe8b50 div.sk-label-container {position: relative;z-index: 2;text-align: center;}#sk-2177c700-3a73-42fe-b23f-e8a291fe8b50 div.sk-container {/* jupyter's `normalize.less` sets `[hidden] { display: none; }` but bootstrap.min.css set `[hidden] { display: none !important; }` so we also need the `!important` here to be able to override the default hidden behavior on the sphinx rendered scikit-learn.org. See: https://github.com/scikit-learn/scikit-learn/issues/21755 */display: inline-block !important;position: relative;}#sk-2177c700-3a73-42fe-b23f-e8a291fe8b50 div.sk-text-repr-fallback {display: none;}</style><div id=\"sk-2177c700-3a73-42fe-b23f-e8a291fe8b50\" class=\"sk-top-container\"><div class=\"sk-text-repr-fallback\"><pre>ColumnTransformer(transformers=[(&#x27;num&#x27;,\n",
       "                                 Pipeline(steps=[(&#x27;imputer&#x27;,\n",
       "                                                  SimpleImputer(strategy=&#x27;median&#x27;)),\n",
       "                                                 (&#x27;std_scaler&#x27;,\n",
       "                                                  StandardScaler())]),\n",
       "                                 [&#x27;longitude&#x27;, &#x27;latitude&#x27;, &#x27;housing_median_age&#x27;,\n",
       "                                  &#x27;total_rooms&#x27;, &#x27;total_bedrooms&#x27;, &#x27;population&#x27;,\n",
       "                                  &#x27;households&#x27;, &#x27;median_income&#x27;,\n",
       "                                  &#x27;rooms_per_household&#x27;,\n",
       "                                  &#x27;population_per_household&#x27;,\n",
       "                                  &#x27;bedrooms_per_room&#x27;]),\n",
       "                                (&#x27;cat&#x27;, OneHotEncoder(sparse=False),\n",
       "                                 [&#x27;ocean_proximity&#x27;])])</pre><b>Please rerun this cell to show the HTML repr or trust the notebook.</b></div><div class=\"sk-container\" hidden><div class=\"sk-item sk-dashed-wrapped\"><div class=\"sk-label-container\"><div class=\"sk-label sk-toggleable\"><input class=\"sk-toggleable__control sk-hidden--visually\" id=\"550b52b9-9f87-489b-aabe-087c8c9f6eb9\" type=\"checkbox\" ><label for=\"550b52b9-9f87-489b-aabe-087c8c9f6eb9\" class=\"sk-toggleable__label sk-toggleable__label-arrow\">ColumnTransformer</label><div class=\"sk-toggleable__content\"><pre>ColumnTransformer(transformers=[(&#x27;num&#x27;,\n",
       "                                 Pipeline(steps=[(&#x27;imputer&#x27;,\n",
       "                                                  SimpleImputer(strategy=&#x27;median&#x27;)),\n",
       "                                                 (&#x27;std_scaler&#x27;,\n",
       "                                                  StandardScaler())]),\n",
       "                                 [&#x27;longitude&#x27;, &#x27;latitude&#x27;, &#x27;housing_median_age&#x27;,\n",
       "                                  &#x27;total_rooms&#x27;, &#x27;total_bedrooms&#x27;, &#x27;population&#x27;,\n",
       "                                  &#x27;households&#x27;, &#x27;median_income&#x27;,\n",
       "                                  &#x27;rooms_per_household&#x27;,\n",
       "                                  &#x27;population_per_household&#x27;,\n",
       "                                  &#x27;bedrooms_per_room&#x27;]),\n",
       "                                (&#x27;cat&#x27;, OneHotEncoder(sparse=False),\n",
       "                                 [&#x27;ocean_proximity&#x27;])])</pre></div></div></div><div class=\"sk-parallel\"><div class=\"sk-parallel-item\"><div class=\"sk-item\"><div class=\"sk-label-container\"><div class=\"sk-label sk-toggleable\"><input class=\"sk-toggleable__control sk-hidden--visually\" id=\"caacf62b-0615-4544-b199-a9a37d2d53be\" type=\"checkbox\" ><label for=\"caacf62b-0615-4544-b199-a9a37d2d53be\" class=\"sk-toggleable__label sk-toggleable__label-arrow\">num</label><div class=\"sk-toggleable__content\"><pre>[&#x27;longitude&#x27;, &#x27;latitude&#x27;, &#x27;housing_median_age&#x27;, &#x27;total_rooms&#x27;, &#x27;total_bedrooms&#x27;, &#x27;population&#x27;, &#x27;households&#x27;, &#x27;median_income&#x27;, &#x27;rooms_per_household&#x27;, &#x27;population_per_household&#x27;, &#x27;bedrooms_per_room&#x27;]</pre></div></div></div><div class=\"sk-serial\"><div class=\"sk-item\"><div class=\"sk-serial\"><div class=\"sk-item\"><div class=\"sk-estimator sk-toggleable\"><input class=\"sk-toggleable__control sk-hidden--visually\" id=\"a5a6307f-e383-48dd-b291-ffe5388fbc19\" type=\"checkbox\" ><label for=\"a5a6307f-e383-48dd-b291-ffe5388fbc19\" class=\"sk-toggleable__label sk-toggleable__label-arrow\">SimpleImputer</label><div class=\"sk-toggleable__content\"><pre>SimpleImputer(strategy=&#x27;median&#x27;)</pre></div></div></div><div class=\"sk-item\"><div class=\"sk-estimator sk-toggleable\"><input class=\"sk-toggleable__control sk-hidden--visually\" id=\"2b5f4487-c456-4b03-af62-ab5c18471d71\" type=\"checkbox\" ><label for=\"2b5f4487-c456-4b03-af62-ab5c18471d71\" class=\"sk-toggleable__label sk-toggleable__label-arrow\">StandardScaler</label><div class=\"sk-toggleable__content\"><pre>StandardScaler()</pre></div></div></div></div></div></div></div></div><div class=\"sk-parallel-item\"><div class=\"sk-item\"><div class=\"sk-label-container\"><div class=\"sk-label sk-toggleable\"><input class=\"sk-toggleable__control sk-hidden--visually\" id=\"0dd86445-155c-4f8d-8a93-17165a15857f\" type=\"checkbox\" ><label for=\"0dd86445-155c-4f8d-8a93-17165a15857f\" class=\"sk-toggleable__label sk-toggleable__label-arrow\">cat</label><div class=\"sk-toggleable__content\"><pre>[&#x27;ocean_proximity&#x27;]</pre></div></div></div><div class=\"sk-serial\"><div class=\"sk-item\"><div class=\"sk-estimator sk-toggleable\"><input class=\"sk-toggleable__control sk-hidden--visually\" id=\"1225eb2a-e920-4189-8f91-b6c60c555d45\" type=\"checkbox\" ><label for=\"1225eb2a-e920-4189-8f91-b6c60c555d45\" class=\"sk-toggleable__label sk-toggleable__label-arrow\">OneHotEncoder</label><div class=\"sk-toggleable__content\"><pre>OneHotEncoder(sparse=False)</pre></div></div></div></div></div></div></div></div></div></div>"
      ],
      "text/plain": [
       "ColumnTransformer(transformers=[('num',\n",
       "                                 Pipeline(steps=[('imputer',\n",
       "                                                  SimpleImputer(strategy='median')),\n",
       "                                                 ('std_scaler',\n",
       "                                                  StandardScaler())]),\n",
       "                                 ['longitude', 'latitude', 'housing_median_age',\n",
       "                                  'total_rooms', 'total_bedrooms', 'population',\n",
       "                                  'households', 'median_income',\n",
       "                                  'rooms_per_household',\n",
       "                                  'population_per_household',\n",
       "                                  'bedrooms_per_room']),\n",
       "                                ('cat', OneHotEncoder(sparse=False),\n",
       "                                 ['ocean_proximity'])])"
      ]
     },
     "execution_count": 14,
     "metadata": {},
     "output_type": "execute_result"
    }
   ],
   "source": [
    "full_pipeline"
   ]
  },
  {
   "cell_type": "code",
   "execution_count": 15,
   "metadata": {},
   "outputs": [
    {
     "data": {
      "text/plain": [
       "array([[-0.94135046,  1.34743822,  0.02756357, ...,  0.        ,\n",
       "         0.        ,  0.        ],\n",
       "       [ 1.17178212, -1.19243966, -1.72201763, ...,  0.        ,\n",
       "         0.        ,  1.        ],\n",
       "       [ 0.26758118, -0.1259716 ,  1.22045984, ...,  0.        ,\n",
       "         0.        ,  0.        ],\n",
       "       ...,\n",
       "       [-1.5707942 ,  1.31001828,  1.53856552, ...,  0.        ,\n",
       "         0.        ,  0.        ],\n",
       "       [-1.56080303,  1.2492109 , -1.1653327 , ...,  0.        ,\n",
       "         0.        ,  0.        ],\n",
       "       [-1.28105026,  2.02567448, -0.13148926, ...,  0.        ,\n",
       "         0.        ,  0.        ]])"
      ]
     },
     "execution_count": 15,
     "metadata": {},
     "output_type": "execute_result"
    }
   ],
   "source": [
    "#take the training data set and create an array of prepared data\n",
    "housing_prepared = full_pipeline.fit_transform(housing)\n",
    "housing_prepared"
   ]
  },
  {
   "cell_type": "code",
   "execution_count": 16,
   "metadata": {},
   "outputs": [
    {
     "data": {
      "text/plain": [
       "(16512, 16)"
      ]
     },
     "execution_count": 16,
     "metadata": {},
     "output_type": "execute_result"
    }
   ],
   "source": [
    "#look at the size of the dataset\n",
    "housing_prepared.shape\n",
    "\n",
    "#the shape has changed ... the same number of rows but more columns\n",
    "#there is a new column for all 11 numeric attribute \n",
    "#plus the encoded attributes for the 5 Ocean Proximity values"
   ]
  },
  {
   "cell_type": "code",
   "execution_count": 17,
   "metadata": {},
   "outputs": [
    {
     "data": {
      "text/plain": [
       "array([[ 0.59229422, -0.71065803,  0.02756357, ...,  0.        ,\n",
       "         0.        ,  0.        ],\n",
       "       [-0.42180959, -0.35049119, -0.37006852, ...,  0.        ,\n",
       "         0.        ,  0.        ],\n",
       "       [ 0.56232071, -0.64985064,  0.5842485 , ...,  0.        ,\n",
       "         0.        ,  0.        ],\n",
       "       ...,\n",
       "       [-0.07211862, -0.56097831,  1.14093342, ...,  0.        ,\n",
       "         0.        ,  0.        ],\n",
       "       [ 0.83208232, -0.93985512,  0.10708999, ...,  0.        ,\n",
       "         0.        ,  0.        ],\n",
       "       [ 0.50736927, -0.67791559,  0.5842485 , ...,  0.        ,\n",
       "         0.        ,  0.        ]])"
      ]
     },
     "execution_count": 17,
     "metadata": {},
     "output_type": "execute_result"
    }
   ],
   "source": [
    "#use the pipeline transformation to prepare the test data set as well\n",
    "#NOTE that for the test data, only need to transform it (i.e. apply transformations) but do not need to fit it\n",
    "X_test = full_pipeline.transform(X_test)\n",
    "X_test"
   ]
  },
  {
   "cell_type": "markdown",
   "metadata": {},
   "source": [
    "### Preserve a list of all attributes used to aid in results analysis"
   ]
  },
  {
   "cell_type": "code",
   "execution_count": 18,
   "metadata": {},
   "outputs": [
    {
     "data": {
      "text/plain": [
       "['longitude',\n",
       " 'latitude',\n",
       " 'housing_median_age',\n",
       " 'total_rooms',\n",
       " 'total_bedrooms',\n",
       " 'population',\n",
       " 'households',\n",
       " 'median_income',\n",
       " 'rooms_per_household',\n",
       " 'population_per_household',\n",
       " 'bedrooms_per_room',\n",
       " 'ocean_proximity_<1H OCEAN',\n",
       " 'ocean_proximity_INLAND',\n",
       " 'ocean_proximity_ISLAND',\n",
       " 'ocean_proximity_NEAR BAY',\n",
       " 'ocean_proximity_NEAR OCEAN']"
      ]
     },
     "execution_count": 18,
     "metadata": {},
     "output_type": "execute_result"
    }
   ],
   "source": [
    "#create a list of attributes   - THIS CODE IS NEW but able to be used more universally\n",
    "attributes = []\n",
    "for item in full_pipeline.transformers_:\n",
    "    addToList=True\n",
    "    if isinstance(item[1], Pipeline):\n",
    "        for step in item[1]:\n",
    "            if isinstance(step, OneHotEncoder) and item[2]!=[]:\n",
    "                attributes+= list( step.get_feature_names_out() )\n",
    "                addToList=False  \n",
    "    if isinstance(item[1], OneHotEncoder):\n",
    "        if item[2]!=[]:\n",
    "            attributes+= list( item[1].get_feature_names_out() )\n",
    "        addToList=False    \n",
    "    if addToList:\n",
    "        attributes += list(item[2])  \n",
    "attributes"
   ]
  },
  {
   "cell_type": "markdown",
   "metadata": {},
   "source": [
    "## <font color=Blue> Establish a Baseline"
   ]
  },
  {
   "cell_type": "code",
   "execution_count": 19,
   "metadata": {},
   "outputs": [
    {
     "name": "stdout",
     "output_type": "stream",
     "text": [
      "Baseline guess for any house: $179,500\n",
      "Baseline Performance (of this guess): RMSE $118,922\n"
     ]
    }
   ],
   "source": [
    "#calculate the average home value\n",
    "baseline_prediction = housing_labels.median()\n",
    "\n",
    "#populate an array with the average home value\n",
    "predictions = np.full(shape=len(housing_prepared), fill_value = baseline_prediction)\n",
    "\n",
    "#determine the Root Mean Squared Error based on the actual vs. the baseline prediction\n",
    "baseline_rmse = mean_squared_error(housing_labels, predictions, squared=False)\n",
    "print(\"Baseline guess for any house: ${:,.0f}\".format(baseline_prediction))\n",
    "print(\"Baseline Performance (of this guess): RMSE ${:,.0f}\".format(baseline_rmse))"
   ]
  },
  {
   "cell_type": "markdown",
   "metadata": {},
   "source": [
    "## <font color=blue>LinearRegression Model</font>"
   ]
  },
  {
   "cell_type": "code",
   "execution_count": 20,
   "metadata": {},
   "outputs": [
    {
     "data": {
      "text/html": [
       "<style>#sk-a076cf4f-ca68-4ef7-a3f2-25aab40bac3a {color: black;background-color: white;}#sk-a076cf4f-ca68-4ef7-a3f2-25aab40bac3a pre{padding: 0;}#sk-a076cf4f-ca68-4ef7-a3f2-25aab40bac3a div.sk-toggleable {background-color: white;}#sk-a076cf4f-ca68-4ef7-a3f2-25aab40bac3a label.sk-toggleable__label {cursor: pointer;display: block;width: 100%;margin-bottom: 0;padding: 0.3em;box-sizing: border-box;text-align: center;}#sk-a076cf4f-ca68-4ef7-a3f2-25aab40bac3a label.sk-toggleable__label-arrow:before {content: \"▸\";float: left;margin-right: 0.25em;color: #696969;}#sk-a076cf4f-ca68-4ef7-a3f2-25aab40bac3a label.sk-toggleable__label-arrow:hover:before {color: black;}#sk-a076cf4f-ca68-4ef7-a3f2-25aab40bac3a div.sk-estimator:hover label.sk-toggleable__label-arrow:before {color: black;}#sk-a076cf4f-ca68-4ef7-a3f2-25aab40bac3a div.sk-toggleable__content {max-height: 0;max-width: 0;overflow: hidden;text-align: left;background-color: #f0f8ff;}#sk-a076cf4f-ca68-4ef7-a3f2-25aab40bac3a div.sk-toggleable__content pre {margin: 0.2em;color: black;border-radius: 0.25em;background-color: #f0f8ff;}#sk-a076cf4f-ca68-4ef7-a3f2-25aab40bac3a input.sk-toggleable__control:checked~div.sk-toggleable__content {max-height: 200px;max-width: 100%;overflow: auto;}#sk-a076cf4f-ca68-4ef7-a3f2-25aab40bac3a input.sk-toggleable__control:checked~label.sk-toggleable__label-arrow:before {content: \"▾\";}#sk-a076cf4f-ca68-4ef7-a3f2-25aab40bac3a div.sk-estimator input.sk-toggleable__control:checked~label.sk-toggleable__label {background-color: #d4ebff;}#sk-a076cf4f-ca68-4ef7-a3f2-25aab40bac3a div.sk-label input.sk-toggleable__control:checked~label.sk-toggleable__label {background-color: #d4ebff;}#sk-a076cf4f-ca68-4ef7-a3f2-25aab40bac3a input.sk-hidden--visually {border: 0;clip: rect(1px 1px 1px 1px);clip: rect(1px, 1px, 1px, 1px);height: 1px;margin: -1px;overflow: hidden;padding: 0;position: absolute;width: 1px;}#sk-a076cf4f-ca68-4ef7-a3f2-25aab40bac3a div.sk-estimator {font-family: monospace;background-color: #f0f8ff;border: 1px dotted black;border-radius: 0.25em;box-sizing: border-box;margin-bottom: 0.5em;}#sk-a076cf4f-ca68-4ef7-a3f2-25aab40bac3a div.sk-estimator:hover {background-color: #d4ebff;}#sk-a076cf4f-ca68-4ef7-a3f2-25aab40bac3a div.sk-parallel-item::after {content: \"\";width: 100%;border-bottom: 1px solid gray;flex-grow: 1;}#sk-a076cf4f-ca68-4ef7-a3f2-25aab40bac3a div.sk-label:hover label.sk-toggleable__label {background-color: #d4ebff;}#sk-a076cf4f-ca68-4ef7-a3f2-25aab40bac3a div.sk-serial::before {content: \"\";position: absolute;border-left: 1px solid gray;box-sizing: border-box;top: 2em;bottom: 0;left: 50%;}#sk-a076cf4f-ca68-4ef7-a3f2-25aab40bac3a div.sk-serial {display: flex;flex-direction: column;align-items: center;background-color: white;padding-right: 0.2em;padding-left: 0.2em;}#sk-a076cf4f-ca68-4ef7-a3f2-25aab40bac3a div.sk-item {z-index: 1;}#sk-a076cf4f-ca68-4ef7-a3f2-25aab40bac3a div.sk-parallel {display: flex;align-items: stretch;justify-content: center;background-color: white;}#sk-a076cf4f-ca68-4ef7-a3f2-25aab40bac3a div.sk-parallel::before {content: \"\";position: absolute;border-left: 1px solid gray;box-sizing: border-box;top: 2em;bottom: 0;left: 50%;}#sk-a076cf4f-ca68-4ef7-a3f2-25aab40bac3a div.sk-parallel-item {display: flex;flex-direction: column;position: relative;background-color: white;}#sk-a076cf4f-ca68-4ef7-a3f2-25aab40bac3a div.sk-parallel-item:first-child::after {align-self: flex-end;width: 50%;}#sk-a076cf4f-ca68-4ef7-a3f2-25aab40bac3a div.sk-parallel-item:last-child::after {align-self: flex-start;width: 50%;}#sk-a076cf4f-ca68-4ef7-a3f2-25aab40bac3a div.sk-parallel-item:only-child::after {width: 0;}#sk-a076cf4f-ca68-4ef7-a3f2-25aab40bac3a div.sk-dashed-wrapped {border: 1px dashed gray;margin: 0 0.4em 0.5em 0.4em;box-sizing: border-box;padding-bottom: 0.4em;background-color: white;position: relative;}#sk-a076cf4f-ca68-4ef7-a3f2-25aab40bac3a div.sk-label label {font-family: monospace;font-weight: bold;background-color: white;display: inline-block;line-height: 1.2em;}#sk-a076cf4f-ca68-4ef7-a3f2-25aab40bac3a div.sk-label-container {position: relative;z-index: 2;text-align: center;}#sk-a076cf4f-ca68-4ef7-a3f2-25aab40bac3a div.sk-container {/* jupyter's `normalize.less` sets `[hidden] { display: none; }` but bootstrap.min.css set `[hidden] { display: none !important; }` so we also need the `!important` here to be able to override the default hidden behavior on the sphinx rendered scikit-learn.org. See: https://github.com/scikit-learn/scikit-learn/issues/21755 */display: inline-block !important;position: relative;}#sk-a076cf4f-ca68-4ef7-a3f2-25aab40bac3a div.sk-text-repr-fallback {display: none;}</style><div id=\"sk-a076cf4f-ca68-4ef7-a3f2-25aab40bac3a\" class=\"sk-top-container\"><div class=\"sk-text-repr-fallback\"><pre>LinearRegression()</pre><b>Please rerun this cell to show the HTML repr or trust the notebook.</b></div><div class=\"sk-container\" hidden><div class=\"sk-item\"><div class=\"sk-estimator sk-toggleable\"><input class=\"sk-toggleable__control sk-hidden--visually\" id=\"6c624776-9dda-48b8-8e45-e55e03839e87\" type=\"checkbox\" checked><label for=\"6c624776-9dda-48b8-8e45-e55e03839e87\" class=\"sk-toggleable__label sk-toggleable__label-arrow\">LinearRegression</label><div class=\"sk-toggleable__content\"><pre>LinearRegression()</pre></div></div></div></div></div>"
      ],
      "text/plain": [
       "LinearRegression()"
      ]
     },
     "execution_count": 20,
     "metadata": {},
     "output_type": "execute_result"
    }
   ],
   "source": [
    "#create the model object\n",
    "lin_reg = LinearRegression()\n",
    "\n",
    "#fit the model to the prepared test data\n",
    "lin_reg.fit(housing_prepared,housing_labels)"
   ]
  },
  {
   "cell_type": "markdown",
   "metadata": {},
   "source": [
    "### Evaluate the Model"
   ]
  },
  {
   "cell_type": "code",
   "execution_count": 21,
   "metadata": {
    "scrolled": true
   },
   "outputs": [
    {
     "name": "stdout",
     "output_type": "stream",
     "text": [
      "Prediction Error (RMSE): $68,161\n"
     ]
    }
   ],
   "source": [
    "#see how well the model fits\n",
    "\n",
    "#calculate the predicted values\n",
    "housing_predictions = lin_reg.predict(housing_prepared)\n",
    "\n",
    "#compare the predicted (housing_predictions) to the actuals (housing_labels or what we often call y_test)\n",
    "lin_rmse = mean_squared_error(housing_labels, housing_predictions, squared=False)\n",
    "print(\"Prediction Error (RMSE): ${:,.0f}\".format(lin_rmse))"
   ]
  },
  {
   "cell_type": "markdown",
   "metadata": {},
   "source": [
    "<font color=red>Better than baseline ... but given most houses fall between 120k and 265k, the model is most likely underfitting!"
   ]
  },
  {
   "cell_type": "markdown",
   "metadata": {},
   "source": [
    "### EvaluateModel using Cross Validation"
   ]
  },
  {
   "cell_type": "code",
   "execution_count": 22,
   "metadata": {},
   "outputs": [
    {
     "data": {
      "text/plain": [
       "array([-71181.95098096, -63825.56512744, -67741.07241029, -68256.29685279,\n",
       "       -66711.2271161 , -72240.73664717, -69981.07976999, -68438.51358706,\n",
       "       -65946.92067317, -70073.85093767])"
      ]
     },
     "execution_count": 22,
     "metadata": {},
     "output_type": "execute_result"
    }
   ],
   "source": [
    "#use cross valudation to process the data 10 different ways using linear regression model generated above\n",
    "#helps us to understand how well the model \"fits\" our data\n",
    "scores = cross_val_score(lin_reg, housing_prepared, housing_labels,\n",
    "                         scoring=\"neg_root_mean_squared_error\", cv=10)\n",
    "\n",
    "# look at the results of each fold\n",
    "scores"
   ]
  },
  {
   "cell_type": "code",
   "execution_count": 23,
   "metadata": {},
   "outputs": [
    {
     "name": "stdout",
     "output_type": "stream",
     "text": [
      "Average of RMSE across folds: $68,440\n",
      "Standard deviation: 2,409\n"
     ]
    }
   ],
   "source": [
    "#calculate the average score over the 10 different cross validations\n",
    "print(\"Average of RMSE across folds: ${:,.0f}\".format(-scores.mean()))\n",
    "print(\"Standard deviation: {:,.0f}\".format( scores.std() ) )"
   ]
  },
  {
   "cell_type": "markdown",
   "metadata": {},
   "source": [
    "<font color=red>Similar results with cross validation. Because there is limited tunning of the LinearRegression algorithm, it is time to try other Regression algorithms!"
   ]
  },
  {
   "cell_type": "markdown",
   "metadata": {},
   "source": [
    "## <font color=blue>Decision Tree Regressor Model</font>"
   ]
  },
  {
   "cell_type": "code",
   "execution_count": 24,
   "metadata": {},
   "outputs": [
    {
     "data": {
      "text/html": [
       "<style>#sk-44687231-e86c-4ab1-9210-3cbe5cb63b90 {color: black;background-color: white;}#sk-44687231-e86c-4ab1-9210-3cbe5cb63b90 pre{padding: 0;}#sk-44687231-e86c-4ab1-9210-3cbe5cb63b90 div.sk-toggleable {background-color: white;}#sk-44687231-e86c-4ab1-9210-3cbe5cb63b90 label.sk-toggleable__label {cursor: pointer;display: block;width: 100%;margin-bottom: 0;padding: 0.3em;box-sizing: border-box;text-align: center;}#sk-44687231-e86c-4ab1-9210-3cbe5cb63b90 label.sk-toggleable__label-arrow:before {content: \"▸\";float: left;margin-right: 0.25em;color: #696969;}#sk-44687231-e86c-4ab1-9210-3cbe5cb63b90 label.sk-toggleable__label-arrow:hover:before {color: black;}#sk-44687231-e86c-4ab1-9210-3cbe5cb63b90 div.sk-estimator:hover label.sk-toggleable__label-arrow:before {color: black;}#sk-44687231-e86c-4ab1-9210-3cbe5cb63b90 div.sk-toggleable__content {max-height: 0;max-width: 0;overflow: hidden;text-align: left;background-color: #f0f8ff;}#sk-44687231-e86c-4ab1-9210-3cbe5cb63b90 div.sk-toggleable__content pre {margin: 0.2em;color: black;border-radius: 0.25em;background-color: #f0f8ff;}#sk-44687231-e86c-4ab1-9210-3cbe5cb63b90 input.sk-toggleable__control:checked~div.sk-toggleable__content {max-height: 200px;max-width: 100%;overflow: auto;}#sk-44687231-e86c-4ab1-9210-3cbe5cb63b90 input.sk-toggleable__control:checked~label.sk-toggleable__label-arrow:before {content: \"▾\";}#sk-44687231-e86c-4ab1-9210-3cbe5cb63b90 div.sk-estimator input.sk-toggleable__control:checked~label.sk-toggleable__label {background-color: #d4ebff;}#sk-44687231-e86c-4ab1-9210-3cbe5cb63b90 div.sk-label input.sk-toggleable__control:checked~label.sk-toggleable__label {background-color: #d4ebff;}#sk-44687231-e86c-4ab1-9210-3cbe5cb63b90 input.sk-hidden--visually {border: 0;clip: rect(1px 1px 1px 1px);clip: rect(1px, 1px, 1px, 1px);height: 1px;margin: -1px;overflow: hidden;padding: 0;position: absolute;width: 1px;}#sk-44687231-e86c-4ab1-9210-3cbe5cb63b90 div.sk-estimator {font-family: monospace;background-color: #f0f8ff;border: 1px dotted black;border-radius: 0.25em;box-sizing: border-box;margin-bottom: 0.5em;}#sk-44687231-e86c-4ab1-9210-3cbe5cb63b90 div.sk-estimator:hover {background-color: #d4ebff;}#sk-44687231-e86c-4ab1-9210-3cbe5cb63b90 div.sk-parallel-item::after {content: \"\";width: 100%;border-bottom: 1px solid gray;flex-grow: 1;}#sk-44687231-e86c-4ab1-9210-3cbe5cb63b90 div.sk-label:hover label.sk-toggleable__label {background-color: #d4ebff;}#sk-44687231-e86c-4ab1-9210-3cbe5cb63b90 div.sk-serial::before {content: \"\";position: absolute;border-left: 1px solid gray;box-sizing: border-box;top: 2em;bottom: 0;left: 50%;}#sk-44687231-e86c-4ab1-9210-3cbe5cb63b90 div.sk-serial {display: flex;flex-direction: column;align-items: center;background-color: white;padding-right: 0.2em;padding-left: 0.2em;}#sk-44687231-e86c-4ab1-9210-3cbe5cb63b90 div.sk-item {z-index: 1;}#sk-44687231-e86c-4ab1-9210-3cbe5cb63b90 div.sk-parallel {display: flex;align-items: stretch;justify-content: center;background-color: white;}#sk-44687231-e86c-4ab1-9210-3cbe5cb63b90 div.sk-parallel::before {content: \"\";position: absolute;border-left: 1px solid gray;box-sizing: border-box;top: 2em;bottom: 0;left: 50%;}#sk-44687231-e86c-4ab1-9210-3cbe5cb63b90 div.sk-parallel-item {display: flex;flex-direction: column;position: relative;background-color: white;}#sk-44687231-e86c-4ab1-9210-3cbe5cb63b90 div.sk-parallel-item:first-child::after {align-self: flex-end;width: 50%;}#sk-44687231-e86c-4ab1-9210-3cbe5cb63b90 div.sk-parallel-item:last-child::after {align-self: flex-start;width: 50%;}#sk-44687231-e86c-4ab1-9210-3cbe5cb63b90 div.sk-parallel-item:only-child::after {width: 0;}#sk-44687231-e86c-4ab1-9210-3cbe5cb63b90 div.sk-dashed-wrapped {border: 1px dashed gray;margin: 0 0.4em 0.5em 0.4em;box-sizing: border-box;padding-bottom: 0.4em;background-color: white;position: relative;}#sk-44687231-e86c-4ab1-9210-3cbe5cb63b90 div.sk-label label {font-family: monospace;font-weight: bold;background-color: white;display: inline-block;line-height: 1.2em;}#sk-44687231-e86c-4ab1-9210-3cbe5cb63b90 div.sk-label-container {position: relative;z-index: 2;text-align: center;}#sk-44687231-e86c-4ab1-9210-3cbe5cb63b90 div.sk-container {/* jupyter's `normalize.less` sets `[hidden] { display: none; }` but bootstrap.min.css set `[hidden] { display: none !important; }` so we also need the `!important` here to be able to override the default hidden behavior on the sphinx rendered scikit-learn.org. See: https://github.com/scikit-learn/scikit-learn/issues/21755 */display: inline-block !important;position: relative;}#sk-44687231-e86c-4ab1-9210-3cbe5cb63b90 div.sk-text-repr-fallback {display: none;}</style><div id=\"sk-44687231-e86c-4ab1-9210-3cbe5cb63b90\" class=\"sk-top-container\"><div class=\"sk-text-repr-fallback\"><pre>DecisionTreeRegressor(random_state=42)</pre><b>Please rerun this cell to show the HTML repr or trust the notebook.</b></div><div class=\"sk-container\" hidden><div class=\"sk-item\"><div class=\"sk-estimator sk-toggleable\"><input class=\"sk-toggleable__control sk-hidden--visually\" id=\"2f672ce1-7a27-4220-90ce-7f262d80165b\" type=\"checkbox\" checked><label for=\"2f672ce1-7a27-4220-90ce-7f262d80165b\" class=\"sk-toggleable__label sk-toggleable__label-arrow\">DecisionTreeRegressor</label><div class=\"sk-toggleable__content\"><pre>DecisionTreeRegressor(random_state=42)</pre></div></div></div></div></div>"
      ],
      "text/plain": [
       "DecisionTreeRegressor(random_state=42)"
      ]
     },
     "execution_count": 24,
     "metadata": {},
     "output_type": "execute_result"
    }
   ],
   "source": [
    "tree_reg = DecisionTreeRegressor( random_state=42 )\n",
    "tree_reg.fit( housing_prepared, housing_labels)"
   ]
  },
  {
   "cell_type": "markdown",
   "metadata": {},
   "source": [
    "### Evaluate the Model"
   ]
  },
  {
   "cell_type": "code",
   "execution_count": 25,
   "metadata": {},
   "outputs": [
    {
     "name": "stdout",
     "output_type": "stream",
     "text": [
      "Prediction Error (RMSE): $0\n"
     ]
    }
   ],
   "source": [
    "#see how well the model fits\n",
    "#calcualte the predicted values\n",
    "housing_predictions = tree_reg.predict(housing_prepared)\n",
    "\n",
    "#compare the predicted (housing_predictions) to the actuals(housing_labels)\n",
    "tree_rmse = mean_squared_error(housing_labels, housing_predictions, squared=False)\n",
    "print(\"Prediction Error (RMSE): ${:,.0f}\".format(tree_rmse))"
   ]
  },
  {
   "cell_type": "markdown",
   "metadata": {},
   "source": [
    "<font color=red>Did we find the perfect model? No, most likely overfitting!"
   ]
  },
  {
   "cell_type": "markdown",
   "metadata": {},
   "source": [
    "### Evaluate Model using Cross Validation</font>"
   ]
  },
  {
   "cell_type": "code",
   "execution_count": 26,
   "metadata": {},
   "outputs": [
    {
     "data": {
      "text/plain": [
       "array([-68901.48374735, -70554.79310661, -68262.4982775 , -72200.95062288,\n",
       "       -72274.34626073])"
      ]
     },
     "execution_count": 26,
     "metadata": {},
     "output_type": "execute_result"
    }
   ],
   "source": [
    "# use cross valudation to evaluate/score the Decision Tree Regressor Model 5 different ways\n",
    "scores = cross_val_score(tree_reg, housing_prepared, housing_labels,\n",
    "                         scoring=\"neg_root_mean_squared_error\", cv=5)\n",
    "\n",
    "#look at the results of each fold\n",
    "scores"
   ]
  },
  {
   "cell_type": "code",
   "execution_count": 27,
   "metadata": {},
   "outputs": [
    {
     "name": "stdout",
     "output_type": "stream",
     "text": [
      "Average of RMSE across folds: $70,439\n",
      "Standard deviation: 1,648\n"
     ]
    }
   ],
   "source": [
    "#calculate the average score over the 10 different cross validations\n",
    "print(\"Average of RMSE across folds: ${:,.0f}\".format(-scores.mean()))\n",
    "print(\"Standard deviation: {:,.0f}\".format( scores.std() ) )"
   ]
  },
  {
   "cell_type": "markdown",
   "metadata": {},
   "source": [
    "<font color=red>Seems the Linear Regression model is better than Decision Tree Regressor but both are bad predictors!"
   ]
  },
  {
   "cell_type": "markdown",
   "metadata": {},
   "source": [
    "## <font color=blue>Random Forest Regressor</font>"
   ]
  },
  {
   "cell_type": "code",
   "execution_count": 28,
   "metadata": {},
   "outputs": [
    {
     "data": {
      "text/html": [
       "<style>#sk-c06b7b96-2e0a-4294-8607-6b53c6e0b70f {color: black;background-color: white;}#sk-c06b7b96-2e0a-4294-8607-6b53c6e0b70f pre{padding: 0;}#sk-c06b7b96-2e0a-4294-8607-6b53c6e0b70f div.sk-toggleable {background-color: white;}#sk-c06b7b96-2e0a-4294-8607-6b53c6e0b70f label.sk-toggleable__label {cursor: pointer;display: block;width: 100%;margin-bottom: 0;padding: 0.3em;box-sizing: border-box;text-align: center;}#sk-c06b7b96-2e0a-4294-8607-6b53c6e0b70f label.sk-toggleable__label-arrow:before {content: \"▸\";float: left;margin-right: 0.25em;color: #696969;}#sk-c06b7b96-2e0a-4294-8607-6b53c6e0b70f label.sk-toggleable__label-arrow:hover:before {color: black;}#sk-c06b7b96-2e0a-4294-8607-6b53c6e0b70f div.sk-estimator:hover label.sk-toggleable__label-arrow:before {color: black;}#sk-c06b7b96-2e0a-4294-8607-6b53c6e0b70f div.sk-toggleable__content {max-height: 0;max-width: 0;overflow: hidden;text-align: left;background-color: #f0f8ff;}#sk-c06b7b96-2e0a-4294-8607-6b53c6e0b70f div.sk-toggleable__content pre {margin: 0.2em;color: black;border-radius: 0.25em;background-color: #f0f8ff;}#sk-c06b7b96-2e0a-4294-8607-6b53c6e0b70f input.sk-toggleable__control:checked~div.sk-toggleable__content {max-height: 200px;max-width: 100%;overflow: auto;}#sk-c06b7b96-2e0a-4294-8607-6b53c6e0b70f input.sk-toggleable__control:checked~label.sk-toggleable__label-arrow:before {content: \"▾\";}#sk-c06b7b96-2e0a-4294-8607-6b53c6e0b70f div.sk-estimator input.sk-toggleable__control:checked~label.sk-toggleable__label {background-color: #d4ebff;}#sk-c06b7b96-2e0a-4294-8607-6b53c6e0b70f div.sk-label input.sk-toggleable__control:checked~label.sk-toggleable__label {background-color: #d4ebff;}#sk-c06b7b96-2e0a-4294-8607-6b53c6e0b70f input.sk-hidden--visually {border: 0;clip: rect(1px 1px 1px 1px);clip: rect(1px, 1px, 1px, 1px);height: 1px;margin: -1px;overflow: hidden;padding: 0;position: absolute;width: 1px;}#sk-c06b7b96-2e0a-4294-8607-6b53c6e0b70f div.sk-estimator {font-family: monospace;background-color: #f0f8ff;border: 1px dotted black;border-radius: 0.25em;box-sizing: border-box;margin-bottom: 0.5em;}#sk-c06b7b96-2e0a-4294-8607-6b53c6e0b70f div.sk-estimator:hover {background-color: #d4ebff;}#sk-c06b7b96-2e0a-4294-8607-6b53c6e0b70f div.sk-parallel-item::after {content: \"\";width: 100%;border-bottom: 1px solid gray;flex-grow: 1;}#sk-c06b7b96-2e0a-4294-8607-6b53c6e0b70f div.sk-label:hover label.sk-toggleable__label {background-color: #d4ebff;}#sk-c06b7b96-2e0a-4294-8607-6b53c6e0b70f div.sk-serial::before {content: \"\";position: absolute;border-left: 1px solid gray;box-sizing: border-box;top: 2em;bottom: 0;left: 50%;}#sk-c06b7b96-2e0a-4294-8607-6b53c6e0b70f div.sk-serial {display: flex;flex-direction: column;align-items: center;background-color: white;padding-right: 0.2em;padding-left: 0.2em;}#sk-c06b7b96-2e0a-4294-8607-6b53c6e0b70f div.sk-item {z-index: 1;}#sk-c06b7b96-2e0a-4294-8607-6b53c6e0b70f div.sk-parallel {display: flex;align-items: stretch;justify-content: center;background-color: white;}#sk-c06b7b96-2e0a-4294-8607-6b53c6e0b70f div.sk-parallel::before {content: \"\";position: absolute;border-left: 1px solid gray;box-sizing: border-box;top: 2em;bottom: 0;left: 50%;}#sk-c06b7b96-2e0a-4294-8607-6b53c6e0b70f div.sk-parallel-item {display: flex;flex-direction: column;position: relative;background-color: white;}#sk-c06b7b96-2e0a-4294-8607-6b53c6e0b70f div.sk-parallel-item:first-child::after {align-self: flex-end;width: 50%;}#sk-c06b7b96-2e0a-4294-8607-6b53c6e0b70f div.sk-parallel-item:last-child::after {align-self: flex-start;width: 50%;}#sk-c06b7b96-2e0a-4294-8607-6b53c6e0b70f div.sk-parallel-item:only-child::after {width: 0;}#sk-c06b7b96-2e0a-4294-8607-6b53c6e0b70f div.sk-dashed-wrapped {border: 1px dashed gray;margin: 0 0.4em 0.5em 0.4em;box-sizing: border-box;padding-bottom: 0.4em;background-color: white;position: relative;}#sk-c06b7b96-2e0a-4294-8607-6b53c6e0b70f div.sk-label label {font-family: monospace;font-weight: bold;background-color: white;display: inline-block;line-height: 1.2em;}#sk-c06b7b96-2e0a-4294-8607-6b53c6e0b70f div.sk-label-container {position: relative;z-index: 2;text-align: center;}#sk-c06b7b96-2e0a-4294-8607-6b53c6e0b70f div.sk-container {/* jupyter's `normalize.less` sets `[hidden] { display: none; }` but bootstrap.min.css set `[hidden] { display: none !important; }` so we also need the `!important` here to be able to override the default hidden behavior on the sphinx rendered scikit-learn.org. See: https://github.com/scikit-learn/scikit-learn/issues/21755 */display: inline-block !important;position: relative;}#sk-c06b7b96-2e0a-4294-8607-6b53c6e0b70f div.sk-text-repr-fallback {display: none;}</style><div id=\"sk-c06b7b96-2e0a-4294-8607-6b53c6e0b70f\" class=\"sk-top-container\"><div class=\"sk-text-repr-fallback\"><pre>RandomForestRegressor(random_state=42)</pre><b>Please rerun this cell to show the HTML repr or trust the notebook.</b></div><div class=\"sk-container\" hidden><div class=\"sk-item\"><div class=\"sk-estimator sk-toggleable\"><input class=\"sk-toggleable__control sk-hidden--visually\" id=\"233e740b-a4e6-451a-b3ed-6e01644c19f2\" type=\"checkbox\" checked><label for=\"233e740b-a4e6-451a-b3ed-6e01644c19f2\" class=\"sk-toggleable__label sk-toggleable__label-arrow\">RandomForestRegressor</label><div class=\"sk-toggleable__content\"><pre>RandomForestRegressor(random_state=42)</pre></div></div></div></div></div>"
      ],
      "text/plain": [
       "RandomForestRegressor(random_state=42)"
      ]
     },
     "execution_count": 28,
     "metadata": {},
     "output_type": "execute_result"
    }
   ],
   "source": [
    "#create a Random Forest Regressor that uses random attributes and averages out their predictions\n",
    "#Note: this may take some time because it is creating 100 trees in this forest\n",
    "forest_reg = RandomForestRegressor(n_estimators=100, random_state=42)\n",
    "\n",
    "#fit the model to the data\n",
    "forest_reg.fit(housing_prepared, housing_labels)"
   ]
  },
  {
   "cell_type": "markdown",
   "metadata": {},
   "source": [
    "### Evaluate the Model"
   ]
  },
  {
   "cell_type": "code",
   "execution_count": 29,
   "metadata": {},
   "outputs": [
    {
     "name": "stdout",
     "output_type": "stream",
     "text": [
      "Prediction Error (RMSE): $18,656\n"
     ]
    }
   ],
   "source": [
    "#let's see how well it performs compared to Linear Regression and Decision Tree Regressor\n",
    "housing_predictions = forest_reg.predict(housing_prepared)\n",
    "\n",
    "#compare the predicted (housing_predictions) to the actuals(housing_labels)\n",
    "forest_rmse = mean_squared_error(housing_labels,housing_predictions,squared=False)\n",
    "print(\"Prediction Error (RMSE): ${:,.0f}\".format(forest_rmse))"
   ]
  },
  {
   "cell_type": "markdown",
   "metadata": {},
   "source": [
    "<font color=red>A much better model! Or is it?"
   ]
  },
  {
   "cell_type": "markdown",
   "metadata": {},
   "source": [
    "### Evaluate Model using Cross Validation"
   ]
  },
  {
   "cell_type": "markdown",
   "metadata": {},
   "source": [
    "<font color=red>THIS WILL TAKE TIME"
   ]
  },
  {
   "cell_type": "code",
   "execution_count": 30,
   "metadata": {},
   "outputs": [
    {
     "data": {
      "text/plain": [
       "array([-50081.75115812, -49694.54011604, -50123.14181907, -51606.82657621,\n",
       "       -51672.39011958])"
      ]
     },
     "execution_count": 30,
     "metadata": {},
     "output_type": "execute_result"
    }
   ],
   "source": [
    "#use cross valudation to process the data 5 different ways using the random forest model generated above\n",
    "scores = cross_val_score(forest_reg, housing_prepared, housing_labels,\n",
    "                         scoring=\"neg_root_mean_squared_error\", cv=5)\n",
    "\n",
    "# look at the results of each fold\n",
    "scores"
   ]
  },
  {
   "cell_type": "code",
   "execution_count": 31,
   "metadata": {},
   "outputs": [
    {
     "name": "stdout",
     "output_type": "stream",
     "text": [
      "Average of RMSE across folds: $50,636\n",
      "Standard deviation: 833\n"
     ]
    }
   ],
   "source": [
    "#calculate the average score over the 10 different cross validations\n",
    "print(\"Average of RMSE across folds: ${:,.0f}\".format(-scores.mean()))\n",
    "print(\"Standard deviation: {:,.0f}\".format( scores.std() ) )"
   ]
  },
  {
   "cell_type": "markdown",
   "metadata": {},
   "source": [
    "<font color=red>Cross validation indicates that model tuning is necessary. The training data set performed <u>much better</u> than cross validation. Hence, the model is still overfitting."
   ]
  },
  {
   "cell_type": "markdown",
   "metadata": {
    "tags": []
   },
   "source": [
    "### <font color=blue>Take best Model and Tune using GridSearch Cross Validation</font>"
   ]
  },
  {
   "cell_type": "markdown",
   "metadata": {},
   "source": [
    " <font color=red>THIS WILL TAKE TIME"
   ]
  },
  {
   "cell_type": "code",
   "execution_count": 32,
   "metadata": {},
   "outputs": [
    {
     "data": {
      "text/html": [
       "<style>#sk-bd0d9dbe-0c7e-4dc5-885e-d5326c36bb85 {color: black;background-color: white;}#sk-bd0d9dbe-0c7e-4dc5-885e-d5326c36bb85 pre{padding: 0;}#sk-bd0d9dbe-0c7e-4dc5-885e-d5326c36bb85 div.sk-toggleable {background-color: white;}#sk-bd0d9dbe-0c7e-4dc5-885e-d5326c36bb85 label.sk-toggleable__label {cursor: pointer;display: block;width: 100%;margin-bottom: 0;padding: 0.3em;box-sizing: border-box;text-align: center;}#sk-bd0d9dbe-0c7e-4dc5-885e-d5326c36bb85 label.sk-toggleable__label-arrow:before {content: \"▸\";float: left;margin-right: 0.25em;color: #696969;}#sk-bd0d9dbe-0c7e-4dc5-885e-d5326c36bb85 label.sk-toggleable__label-arrow:hover:before {color: black;}#sk-bd0d9dbe-0c7e-4dc5-885e-d5326c36bb85 div.sk-estimator:hover label.sk-toggleable__label-arrow:before {color: black;}#sk-bd0d9dbe-0c7e-4dc5-885e-d5326c36bb85 div.sk-toggleable__content {max-height: 0;max-width: 0;overflow: hidden;text-align: left;background-color: #f0f8ff;}#sk-bd0d9dbe-0c7e-4dc5-885e-d5326c36bb85 div.sk-toggleable__content pre {margin: 0.2em;color: black;border-radius: 0.25em;background-color: #f0f8ff;}#sk-bd0d9dbe-0c7e-4dc5-885e-d5326c36bb85 input.sk-toggleable__control:checked~div.sk-toggleable__content {max-height: 200px;max-width: 100%;overflow: auto;}#sk-bd0d9dbe-0c7e-4dc5-885e-d5326c36bb85 input.sk-toggleable__control:checked~label.sk-toggleable__label-arrow:before {content: \"▾\";}#sk-bd0d9dbe-0c7e-4dc5-885e-d5326c36bb85 div.sk-estimator input.sk-toggleable__control:checked~label.sk-toggleable__label {background-color: #d4ebff;}#sk-bd0d9dbe-0c7e-4dc5-885e-d5326c36bb85 div.sk-label input.sk-toggleable__control:checked~label.sk-toggleable__label {background-color: #d4ebff;}#sk-bd0d9dbe-0c7e-4dc5-885e-d5326c36bb85 input.sk-hidden--visually {border: 0;clip: rect(1px 1px 1px 1px);clip: rect(1px, 1px, 1px, 1px);height: 1px;margin: -1px;overflow: hidden;padding: 0;position: absolute;width: 1px;}#sk-bd0d9dbe-0c7e-4dc5-885e-d5326c36bb85 div.sk-estimator {font-family: monospace;background-color: #f0f8ff;border: 1px dotted black;border-radius: 0.25em;box-sizing: border-box;margin-bottom: 0.5em;}#sk-bd0d9dbe-0c7e-4dc5-885e-d5326c36bb85 div.sk-estimator:hover {background-color: #d4ebff;}#sk-bd0d9dbe-0c7e-4dc5-885e-d5326c36bb85 div.sk-parallel-item::after {content: \"\";width: 100%;border-bottom: 1px solid gray;flex-grow: 1;}#sk-bd0d9dbe-0c7e-4dc5-885e-d5326c36bb85 div.sk-label:hover label.sk-toggleable__label {background-color: #d4ebff;}#sk-bd0d9dbe-0c7e-4dc5-885e-d5326c36bb85 div.sk-serial::before {content: \"\";position: absolute;border-left: 1px solid gray;box-sizing: border-box;top: 2em;bottom: 0;left: 50%;}#sk-bd0d9dbe-0c7e-4dc5-885e-d5326c36bb85 div.sk-serial {display: flex;flex-direction: column;align-items: center;background-color: white;padding-right: 0.2em;padding-left: 0.2em;}#sk-bd0d9dbe-0c7e-4dc5-885e-d5326c36bb85 div.sk-item {z-index: 1;}#sk-bd0d9dbe-0c7e-4dc5-885e-d5326c36bb85 div.sk-parallel {display: flex;align-items: stretch;justify-content: center;background-color: white;}#sk-bd0d9dbe-0c7e-4dc5-885e-d5326c36bb85 div.sk-parallel::before {content: \"\";position: absolute;border-left: 1px solid gray;box-sizing: border-box;top: 2em;bottom: 0;left: 50%;}#sk-bd0d9dbe-0c7e-4dc5-885e-d5326c36bb85 div.sk-parallel-item {display: flex;flex-direction: column;position: relative;background-color: white;}#sk-bd0d9dbe-0c7e-4dc5-885e-d5326c36bb85 div.sk-parallel-item:first-child::after {align-self: flex-end;width: 50%;}#sk-bd0d9dbe-0c7e-4dc5-885e-d5326c36bb85 div.sk-parallel-item:last-child::after {align-self: flex-start;width: 50%;}#sk-bd0d9dbe-0c7e-4dc5-885e-d5326c36bb85 div.sk-parallel-item:only-child::after {width: 0;}#sk-bd0d9dbe-0c7e-4dc5-885e-d5326c36bb85 div.sk-dashed-wrapped {border: 1px dashed gray;margin: 0 0.4em 0.5em 0.4em;box-sizing: border-box;padding-bottom: 0.4em;background-color: white;position: relative;}#sk-bd0d9dbe-0c7e-4dc5-885e-d5326c36bb85 div.sk-label label {font-family: monospace;font-weight: bold;background-color: white;display: inline-block;line-height: 1.2em;}#sk-bd0d9dbe-0c7e-4dc5-885e-d5326c36bb85 div.sk-label-container {position: relative;z-index: 2;text-align: center;}#sk-bd0d9dbe-0c7e-4dc5-885e-d5326c36bb85 div.sk-container {/* jupyter's `normalize.less` sets `[hidden] { display: none; }` but bootstrap.min.css set `[hidden] { display: none !important; }` so we also need the `!important` here to be able to override the default hidden behavior on the sphinx rendered scikit-learn.org. See: https://github.com/scikit-learn/scikit-learn/issues/21755 */display: inline-block !important;position: relative;}#sk-bd0d9dbe-0c7e-4dc5-885e-d5326c36bb85 div.sk-text-repr-fallback {display: none;}</style><div id=\"sk-bd0d9dbe-0c7e-4dc5-885e-d5326c36bb85\" class=\"sk-top-container\"><div class=\"sk-text-repr-fallback\"><pre>GridSearchCV(cv=5, estimator=RandomForestRegressor(random_state=42),\n",
       "             param_grid=[{&#x27;max_features&#x27;: [4, 6, 8, 10],\n",
       "                          &#x27;n_estimators&#x27;: [3, 10, 30]},\n",
       "                         {&#x27;bootstrap&#x27;: [False], &#x27;max_features&#x27;: [4, 6, 8],\n",
       "                          &#x27;n_estimators&#x27;: [3, 10]}],\n",
       "             return_train_score=True, scoring=&#x27;neg_root_mean_squared_error&#x27;)</pre><b>Please rerun this cell to show the HTML repr or trust the notebook.</b></div><div class=\"sk-container\" hidden><div class=\"sk-item sk-dashed-wrapped\"><div class=\"sk-label-container\"><div class=\"sk-label sk-toggleable\"><input class=\"sk-toggleable__control sk-hidden--visually\" id=\"ea3414cd-c0a2-4f6b-9091-bcf519337d0a\" type=\"checkbox\" ><label for=\"ea3414cd-c0a2-4f6b-9091-bcf519337d0a\" class=\"sk-toggleable__label sk-toggleable__label-arrow\">GridSearchCV</label><div class=\"sk-toggleable__content\"><pre>GridSearchCV(cv=5, estimator=RandomForestRegressor(random_state=42),\n",
       "             param_grid=[{&#x27;max_features&#x27;: [4, 6, 8, 10],\n",
       "                          &#x27;n_estimators&#x27;: [3, 10, 30]},\n",
       "                         {&#x27;bootstrap&#x27;: [False], &#x27;max_features&#x27;: [4, 6, 8],\n",
       "                          &#x27;n_estimators&#x27;: [3, 10]}],\n",
       "             return_train_score=True, scoring=&#x27;neg_root_mean_squared_error&#x27;)</pre></div></div></div><div class=\"sk-parallel\"><div class=\"sk-parallel-item\"><div class=\"sk-item\"><div class=\"sk-serial\"><div class=\"sk-item\"><div class=\"sk-estimator sk-toggleable\"><input class=\"sk-toggleable__control sk-hidden--visually\" id=\"94e6177e-e296-48fa-97db-6971996c6b08\" type=\"checkbox\" ><label for=\"94e6177e-e296-48fa-97db-6971996c6b08\" class=\"sk-toggleable__label sk-toggleable__label-arrow\">RandomForestRegressor</label><div class=\"sk-toggleable__content\"><pre>RandomForestRegressor(random_state=42)</pre></div></div></div></div></div></div></div></div></div></div>"
      ],
      "text/plain": [
       "GridSearchCV(cv=5, estimator=RandomForestRegressor(random_state=42),\n",
       "             param_grid=[{'max_features': [4, 6, 8, 10],\n",
       "                          'n_estimators': [3, 10, 30]},\n",
       "                         {'bootstrap': [False], 'max_features': [4, 6, 8],\n",
       "                          'n_estimators': [3, 10]}],\n",
       "             return_train_score=True, scoring='neg_root_mean_squared_error')"
      ]
     },
     "execution_count": 32,
     "metadata": {},
     "output_type": "execute_result"
    }
   ],
   "source": [
    "# Best Model was RandomForestRegressor - will now tune its hyperparameters\n",
    "\n",
    "# create a new Random Forest Regressor \n",
    "forest_reg = RandomForestRegressor( random_state=42 )\n",
    "\n",
    "#create a parameter grid that determines the variable hyperparameters\n",
    "#try 12 (3×4) combinations of hyperparameters\n",
    "#and then then try 6 (2×3) combinations with bootstrap set as False\n",
    "param_grid = [   \n",
    "    {'n_estimators': [3, 10, 30], 'max_features': [4, 6, 8, 10]},\n",
    "    {'bootstrap': [False], 'n_estimators': [3, 10], 'max_features': [4, 6, 8]},\n",
    "  ]\n",
    "\n",
    "# train across 5 folds, that's a total of (12+6)*5=90 rounds of training \n",
    "grid_search = GridSearchCV(forest_reg, param_grid, cv=5,\n",
    "                           scoring='neg_root_mean_squared_error',\n",
    "                           return_train_score=True)\n",
    "\n",
    "#fit the model to the data\n",
    "grid_search.fit(housing_prepared, housing_labels)"
   ]
  },
  {
   "cell_type": "code",
   "execution_count": 33,
   "metadata": {},
   "outputs": [
    {
     "name": "stdout",
     "output_type": "stream",
     "text": [
      "60905.32379928889 {'max_features': 4, 'n_estimators': 3}\n",
      "52825.53539272015 {'max_features': 4, 'n_estimators': 10}\n",
      "50279.91335864639 {'max_features': 4, 'n_estimators': 30}\n",
      "57554.03887670543 {'max_features': 6, 'n_estimators': 3}\n",
      "51482.43455956665 {'max_features': 6, 'n_estimators': 10}\n",
      "49767.45433403617 {'max_features': 6, 'n_estimators': 30}\n",
      "59682.414248445726 {'max_features': 8, 'n_estimators': 3}\n",
      "52766.05223811932 {'max_features': 8, 'n_estimators': 10}\n",
      "49921.80892278787 {'max_features': 8, 'n_estimators': 30}\n",
      "58532.62514659994 {'max_features': 10, 'n_estimators': 3}\n",
      "52333.58265785854 {'max_features': 10, 'n_estimators': 10}\n",
      "50216.62753828196 {'max_features': 10, 'n_estimators': 30}\n",
      "58372.99449769822 {'bootstrap': False, 'max_features': 4, 'n_estimators': 3}\n",
      "51137.26385288084 {'bootstrap': False, 'max_features': 4, 'n_estimators': 10}\n",
      "57558.927791430135 {'bootstrap': False, 'max_features': 6, 'n_estimators': 3}\n",
      "51261.14203158512 {'bootstrap': False, 'max_features': 6, 'n_estimators': 10}\n",
      "57613.40496372657 {'bootstrap': False, 'max_features': 8, 'n_estimators': 3}\n",
      "51222.91128964889 {'bootstrap': False, 'max_features': 8, 'n_estimators': 10}\n"
     ]
    }
   ],
   "source": [
    "#let's look at the score of each hyperparameter combination tested during the grid search\n",
    "cvres = grid_search.cv_results_\n",
    "for mean_score, params in zip(cvres[\"mean_test_score\"], cvres[\"params\"]):\n",
    "    print(-mean_score, params)"
   ]
  },
  {
   "cell_type": "code",
   "execution_count": 34,
   "metadata": {},
   "outputs": [
    {
     "data": {
      "text/plain": [
       "{'max_features': 6, 'n_estimators': 30}"
      ]
     },
     "execution_count": 34,
     "metadata": {},
     "output_type": "execute_result"
    }
   ],
   "source": [
    "#display the parameters with the best solution (lowest score)\n",
    "grid_search.best_params_"
   ]
  },
  {
   "cell_type": "code",
   "execution_count": 35,
   "metadata": {},
   "outputs": [
    {
     "data": {
      "text/html": [
       "<style>#sk-5f587882-60d5-4439-b385-90b41f9fb4f8 {color: black;background-color: white;}#sk-5f587882-60d5-4439-b385-90b41f9fb4f8 pre{padding: 0;}#sk-5f587882-60d5-4439-b385-90b41f9fb4f8 div.sk-toggleable {background-color: white;}#sk-5f587882-60d5-4439-b385-90b41f9fb4f8 label.sk-toggleable__label {cursor: pointer;display: block;width: 100%;margin-bottom: 0;padding: 0.3em;box-sizing: border-box;text-align: center;}#sk-5f587882-60d5-4439-b385-90b41f9fb4f8 label.sk-toggleable__label-arrow:before {content: \"▸\";float: left;margin-right: 0.25em;color: #696969;}#sk-5f587882-60d5-4439-b385-90b41f9fb4f8 label.sk-toggleable__label-arrow:hover:before {color: black;}#sk-5f587882-60d5-4439-b385-90b41f9fb4f8 div.sk-estimator:hover label.sk-toggleable__label-arrow:before {color: black;}#sk-5f587882-60d5-4439-b385-90b41f9fb4f8 div.sk-toggleable__content {max-height: 0;max-width: 0;overflow: hidden;text-align: left;background-color: #f0f8ff;}#sk-5f587882-60d5-4439-b385-90b41f9fb4f8 div.sk-toggleable__content pre {margin: 0.2em;color: black;border-radius: 0.25em;background-color: #f0f8ff;}#sk-5f587882-60d5-4439-b385-90b41f9fb4f8 input.sk-toggleable__control:checked~div.sk-toggleable__content {max-height: 200px;max-width: 100%;overflow: auto;}#sk-5f587882-60d5-4439-b385-90b41f9fb4f8 input.sk-toggleable__control:checked~label.sk-toggleable__label-arrow:before {content: \"▾\";}#sk-5f587882-60d5-4439-b385-90b41f9fb4f8 div.sk-estimator input.sk-toggleable__control:checked~label.sk-toggleable__label {background-color: #d4ebff;}#sk-5f587882-60d5-4439-b385-90b41f9fb4f8 div.sk-label input.sk-toggleable__control:checked~label.sk-toggleable__label {background-color: #d4ebff;}#sk-5f587882-60d5-4439-b385-90b41f9fb4f8 input.sk-hidden--visually {border: 0;clip: rect(1px 1px 1px 1px);clip: rect(1px, 1px, 1px, 1px);height: 1px;margin: -1px;overflow: hidden;padding: 0;position: absolute;width: 1px;}#sk-5f587882-60d5-4439-b385-90b41f9fb4f8 div.sk-estimator {font-family: monospace;background-color: #f0f8ff;border: 1px dotted black;border-radius: 0.25em;box-sizing: border-box;margin-bottom: 0.5em;}#sk-5f587882-60d5-4439-b385-90b41f9fb4f8 div.sk-estimator:hover {background-color: #d4ebff;}#sk-5f587882-60d5-4439-b385-90b41f9fb4f8 div.sk-parallel-item::after {content: \"\";width: 100%;border-bottom: 1px solid gray;flex-grow: 1;}#sk-5f587882-60d5-4439-b385-90b41f9fb4f8 div.sk-label:hover label.sk-toggleable__label {background-color: #d4ebff;}#sk-5f587882-60d5-4439-b385-90b41f9fb4f8 div.sk-serial::before {content: \"\";position: absolute;border-left: 1px solid gray;box-sizing: border-box;top: 2em;bottom: 0;left: 50%;}#sk-5f587882-60d5-4439-b385-90b41f9fb4f8 div.sk-serial {display: flex;flex-direction: column;align-items: center;background-color: white;padding-right: 0.2em;padding-left: 0.2em;}#sk-5f587882-60d5-4439-b385-90b41f9fb4f8 div.sk-item {z-index: 1;}#sk-5f587882-60d5-4439-b385-90b41f9fb4f8 div.sk-parallel {display: flex;align-items: stretch;justify-content: center;background-color: white;}#sk-5f587882-60d5-4439-b385-90b41f9fb4f8 div.sk-parallel::before {content: \"\";position: absolute;border-left: 1px solid gray;box-sizing: border-box;top: 2em;bottom: 0;left: 50%;}#sk-5f587882-60d5-4439-b385-90b41f9fb4f8 div.sk-parallel-item {display: flex;flex-direction: column;position: relative;background-color: white;}#sk-5f587882-60d5-4439-b385-90b41f9fb4f8 div.sk-parallel-item:first-child::after {align-self: flex-end;width: 50%;}#sk-5f587882-60d5-4439-b385-90b41f9fb4f8 div.sk-parallel-item:last-child::after {align-self: flex-start;width: 50%;}#sk-5f587882-60d5-4439-b385-90b41f9fb4f8 div.sk-parallel-item:only-child::after {width: 0;}#sk-5f587882-60d5-4439-b385-90b41f9fb4f8 div.sk-dashed-wrapped {border: 1px dashed gray;margin: 0 0.4em 0.5em 0.4em;box-sizing: border-box;padding-bottom: 0.4em;background-color: white;position: relative;}#sk-5f587882-60d5-4439-b385-90b41f9fb4f8 div.sk-label label {font-family: monospace;font-weight: bold;background-color: white;display: inline-block;line-height: 1.2em;}#sk-5f587882-60d5-4439-b385-90b41f9fb4f8 div.sk-label-container {position: relative;z-index: 2;text-align: center;}#sk-5f587882-60d5-4439-b385-90b41f9fb4f8 div.sk-container {/* jupyter's `normalize.less` sets `[hidden] { display: none; }` but bootstrap.min.css set `[hidden] { display: none !important; }` so we also need the `!important` here to be able to override the default hidden behavior on the sphinx rendered scikit-learn.org. See: https://github.com/scikit-learn/scikit-learn/issues/21755 */display: inline-block !important;position: relative;}#sk-5f587882-60d5-4439-b385-90b41f9fb4f8 div.sk-text-repr-fallback {display: none;}</style><div id=\"sk-5f587882-60d5-4439-b385-90b41f9fb4f8\" class=\"sk-top-container\"><div class=\"sk-text-repr-fallback\"><pre>RandomForestRegressor(max_features=6, n_estimators=30, random_state=42)</pre><b>Please rerun this cell to show the HTML repr or trust the notebook.</b></div><div class=\"sk-container\" hidden><div class=\"sk-item\"><div class=\"sk-estimator sk-toggleable\"><input class=\"sk-toggleable__control sk-hidden--visually\" id=\"34cffce2-b333-436b-8982-a509d363249e\" type=\"checkbox\" checked><label for=\"34cffce2-b333-436b-8982-a509d363249e\" class=\"sk-toggleable__label sk-toggleable__label-arrow\">RandomForestRegressor</label><div class=\"sk-toggleable__content\"><pre>RandomForestRegressor(max_features=6, n_estimators=30, random_state=42)</pre></div></div></div></div></div>"
      ],
      "text/plain": [
       "RandomForestRegressor(max_features=6, n_estimators=30, random_state=42)"
      ]
     },
     "execution_count": 35,
     "metadata": {},
     "output_type": "execute_result"
    }
   ],
   "source": [
    "#display the best model and its parameters (similar to above but not in dictionary format)\n",
    "grid_search.best_estimator_"
   ]
  },
  {
   "cell_type": "markdown",
   "metadata": {},
   "source": [
    "### <font color=blue>Tune the same model using Randomized Search Cross Validation</font> "
   ]
  },
  {
   "cell_type": "markdown",
   "metadata": {},
   "source": [
    "<font color=red>THIS WILL TAKE TIME"
   ]
  },
  {
   "cell_type": "code",
   "execution_count": 36,
   "metadata": {},
   "outputs": [
    {
     "data": {
      "text/html": [
       "<style>#sk-f96b593a-e9aa-4e4d-b8f8-82ee30f0c92d {color: black;background-color: white;}#sk-f96b593a-e9aa-4e4d-b8f8-82ee30f0c92d pre{padding: 0;}#sk-f96b593a-e9aa-4e4d-b8f8-82ee30f0c92d div.sk-toggleable {background-color: white;}#sk-f96b593a-e9aa-4e4d-b8f8-82ee30f0c92d label.sk-toggleable__label {cursor: pointer;display: block;width: 100%;margin-bottom: 0;padding: 0.3em;box-sizing: border-box;text-align: center;}#sk-f96b593a-e9aa-4e4d-b8f8-82ee30f0c92d label.sk-toggleable__label-arrow:before {content: \"▸\";float: left;margin-right: 0.25em;color: #696969;}#sk-f96b593a-e9aa-4e4d-b8f8-82ee30f0c92d label.sk-toggleable__label-arrow:hover:before {color: black;}#sk-f96b593a-e9aa-4e4d-b8f8-82ee30f0c92d div.sk-estimator:hover label.sk-toggleable__label-arrow:before {color: black;}#sk-f96b593a-e9aa-4e4d-b8f8-82ee30f0c92d div.sk-toggleable__content {max-height: 0;max-width: 0;overflow: hidden;text-align: left;background-color: #f0f8ff;}#sk-f96b593a-e9aa-4e4d-b8f8-82ee30f0c92d div.sk-toggleable__content pre {margin: 0.2em;color: black;border-radius: 0.25em;background-color: #f0f8ff;}#sk-f96b593a-e9aa-4e4d-b8f8-82ee30f0c92d input.sk-toggleable__control:checked~div.sk-toggleable__content {max-height: 200px;max-width: 100%;overflow: auto;}#sk-f96b593a-e9aa-4e4d-b8f8-82ee30f0c92d input.sk-toggleable__control:checked~label.sk-toggleable__label-arrow:before {content: \"▾\";}#sk-f96b593a-e9aa-4e4d-b8f8-82ee30f0c92d div.sk-estimator input.sk-toggleable__control:checked~label.sk-toggleable__label {background-color: #d4ebff;}#sk-f96b593a-e9aa-4e4d-b8f8-82ee30f0c92d div.sk-label input.sk-toggleable__control:checked~label.sk-toggleable__label {background-color: #d4ebff;}#sk-f96b593a-e9aa-4e4d-b8f8-82ee30f0c92d input.sk-hidden--visually {border: 0;clip: rect(1px 1px 1px 1px);clip: rect(1px, 1px, 1px, 1px);height: 1px;margin: -1px;overflow: hidden;padding: 0;position: absolute;width: 1px;}#sk-f96b593a-e9aa-4e4d-b8f8-82ee30f0c92d div.sk-estimator {font-family: monospace;background-color: #f0f8ff;border: 1px dotted black;border-radius: 0.25em;box-sizing: border-box;margin-bottom: 0.5em;}#sk-f96b593a-e9aa-4e4d-b8f8-82ee30f0c92d div.sk-estimator:hover {background-color: #d4ebff;}#sk-f96b593a-e9aa-4e4d-b8f8-82ee30f0c92d div.sk-parallel-item::after {content: \"\";width: 100%;border-bottom: 1px solid gray;flex-grow: 1;}#sk-f96b593a-e9aa-4e4d-b8f8-82ee30f0c92d div.sk-label:hover label.sk-toggleable__label {background-color: #d4ebff;}#sk-f96b593a-e9aa-4e4d-b8f8-82ee30f0c92d div.sk-serial::before {content: \"\";position: absolute;border-left: 1px solid gray;box-sizing: border-box;top: 2em;bottom: 0;left: 50%;}#sk-f96b593a-e9aa-4e4d-b8f8-82ee30f0c92d div.sk-serial {display: flex;flex-direction: column;align-items: center;background-color: white;padding-right: 0.2em;padding-left: 0.2em;}#sk-f96b593a-e9aa-4e4d-b8f8-82ee30f0c92d div.sk-item {z-index: 1;}#sk-f96b593a-e9aa-4e4d-b8f8-82ee30f0c92d div.sk-parallel {display: flex;align-items: stretch;justify-content: center;background-color: white;}#sk-f96b593a-e9aa-4e4d-b8f8-82ee30f0c92d div.sk-parallel::before {content: \"\";position: absolute;border-left: 1px solid gray;box-sizing: border-box;top: 2em;bottom: 0;left: 50%;}#sk-f96b593a-e9aa-4e4d-b8f8-82ee30f0c92d div.sk-parallel-item {display: flex;flex-direction: column;position: relative;background-color: white;}#sk-f96b593a-e9aa-4e4d-b8f8-82ee30f0c92d div.sk-parallel-item:first-child::after {align-self: flex-end;width: 50%;}#sk-f96b593a-e9aa-4e4d-b8f8-82ee30f0c92d div.sk-parallel-item:last-child::after {align-self: flex-start;width: 50%;}#sk-f96b593a-e9aa-4e4d-b8f8-82ee30f0c92d div.sk-parallel-item:only-child::after {width: 0;}#sk-f96b593a-e9aa-4e4d-b8f8-82ee30f0c92d div.sk-dashed-wrapped {border: 1px dashed gray;margin: 0 0.4em 0.5em 0.4em;box-sizing: border-box;padding-bottom: 0.4em;background-color: white;position: relative;}#sk-f96b593a-e9aa-4e4d-b8f8-82ee30f0c92d div.sk-label label {font-family: monospace;font-weight: bold;background-color: white;display: inline-block;line-height: 1.2em;}#sk-f96b593a-e9aa-4e4d-b8f8-82ee30f0c92d div.sk-label-container {position: relative;z-index: 2;text-align: center;}#sk-f96b593a-e9aa-4e4d-b8f8-82ee30f0c92d div.sk-container {/* jupyter's `normalize.less` sets `[hidden] { display: none; }` but bootstrap.min.css set `[hidden] { display: none !important; }` so we also need the `!important` here to be able to override the default hidden behavior on the sphinx rendered scikit-learn.org. See: https://github.com/scikit-learn/scikit-learn/issues/21755 */display: inline-block !important;position: relative;}#sk-f96b593a-e9aa-4e4d-b8f8-82ee30f0c92d div.sk-text-repr-fallback {display: none;}</style><div id=\"sk-f96b593a-e9aa-4e4d-b8f8-82ee30f0c92d\" class=\"sk-top-container\"><div class=\"sk-text-repr-fallback\"><pre>RandomizedSearchCV(cv=5, estimator=RandomForestRegressor(random_state=42),\n",
       "                   param_distributions={&#x27;max_features&#x27;: &lt;scipy.stats._distn_infrastructure.rv_discrete_frozen object at 0x000001E2849D1640&gt;,\n",
       "                                        &#x27;n_estimators&#x27;: &lt;scipy.stats._distn_infrastructure.rv_discrete_frozen object at 0x000001E2849CAC40&gt;},\n",
       "                   random_state=42, scoring=&#x27;neg_root_mean_squared_error&#x27;)</pre><b>Please rerun this cell to show the HTML repr or trust the notebook.</b></div><div class=\"sk-container\" hidden><div class=\"sk-item sk-dashed-wrapped\"><div class=\"sk-label-container\"><div class=\"sk-label sk-toggleable\"><input class=\"sk-toggleable__control sk-hidden--visually\" id=\"25d2095c-2085-4167-a602-fee4732e1d35\" type=\"checkbox\" ><label for=\"25d2095c-2085-4167-a602-fee4732e1d35\" class=\"sk-toggleable__label sk-toggleable__label-arrow\">RandomizedSearchCV</label><div class=\"sk-toggleable__content\"><pre>RandomizedSearchCV(cv=5, estimator=RandomForestRegressor(random_state=42),\n",
       "                   param_distributions={&#x27;max_features&#x27;: &lt;scipy.stats._distn_infrastructure.rv_discrete_frozen object at 0x000001E2849D1640&gt;,\n",
       "                                        &#x27;n_estimators&#x27;: &lt;scipy.stats._distn_infrastructure.rv_discrete_frozen object at 0x000001E2849CAC40&gt;},\n",
       "                   random_state=42, scoring=&#x27;neg_root_mean_squared_error&#x27;)</pre></div></div></div><div class=\"sk-parallel\"><div class=\"sk-parallel-item\"><div class=\"sk-item\"><div class=\"sk-serial\"><div class=\"sk-item\"><div class=\"sk-estimator sk-toggleable\"><input class=\"sk-toggleable__control sk-hidden--visually\" id=\"a8e3f5ff-f951-4a1a-9739-ae141bb7641e\" type=\"checkbox\" ><label for=\"a8e3f5ff-f951-4a1a-9739-ae141bb7641e\" class=\"sk-toggleable__label sk-toggleable__label-arrow\">RandomForestRegressor</label><div class=\"sk-toggleable__content\"><pre>RandomForestRegressor(random_state=42)</pre></div></div></div></div></div></div></div></div></div></div>"
      ],
      "text/plain": [
       "RandomizedSearchCV(cv=5, estimator=RandomForestRegressor(random_state=42),\n",
       "                   param_distributions={'max_features': <scipy.stats._distn_infrastructure.rv_discrete_frozen object at 0x000001E2849D1640>,\n",
       "                                        'n_estimators': <scipy.stats._distn_infrastructure.rv_discrete_frozen object at 0x000001E2849CAC40>},\n",
       "                   random_state=42, scoring='neg_root_mean_squared_error')"
      ]
     },
     "execution_count": 36,
     "metadata": {},
     "output_type": "execute_result"
    }
   ],
   "source": [
    "# continue to use the random forest regressor but randomly have hyperparameters assigned\n",
    "\n",
    "#create a parameter grid that uses random hyperparameters\n",
    "param_distribs = {\n",
    "        'n_estimators': randint(low=100, high=200),  #Note the book uses 1 as the low but to save time, changed to 100\n",
    "        'max_features': randint(low=1, high=10),\n",
    "    }\n",
    "\n",
    "# train across 5 folds \n",
    "rnd_search = RandomizedSearchCV(forest_reg, param_distributions=param_distribs,\n",
    "                                n_iter=10, cv=5, scoring='neg_root_mean_squared_error', random_state=42)\n",
    "\n",
    "rnd_search.fit(housing_prepared, housing_labels)"
   ]
  },
  {
   "cell_type": "code",
   "execution_count": 37,
   "metadata": {},
   "outputs": [
    {
     "name": "stdout",
     "output_type": "stream",
     "text": [
      "49202.001027100996 {'max_features': 7, 'n_estimators': 151}\n",
      "49215.620395947735 {'max_features': 8, 'n_estimators': 160}\n",
      "49247.47458878027 {'max_features': 5, 'n_estimators': 182}\n",
      "49141.08397093201 {'max_features': 7, 'n_estimators': 174}\n",
      "49153.72388993532 {'max_features': 8, 'n_estimators': 199}\n",
      "49221.70827554076 {'max_features': 8, 'n_estimators': 123}\n",
      "50314.23908486547 {'max_features': 3, 'n_estimators': 121}\n",
      "49505.73497826164 {'max_features': 5, 'n_estimators': 101}\n",
      "49212.9971781265 {'max_features': 8, 'n_estimators': 129}\n",
      "49227.2525868698 {'max_features': 6, 'n_estimators': 101}\n"
     ]
    }
   ],
   "source": [
    "#let's look at the score of each hyperparameter combination tested during the grid search\n",
    "cvres = rnd_search.cv_results_\n",
    "for mean_score, params in zip(cvres[\"mean_test_score\"], cvres[\"params\"]):\n",
    "    print(-mean_score, params)"
   ]
  },
  {
   "cell_type": "code",
   "execution_count": 38,
   "metadata": {},
   "outputs": [
    {
     "data": {
      "text/plain": [
       "{'max_features': 7, 'n_estimators': 174}"
      ]
     },
     "execution_count": 38,
     "metadata": {},
     "output_type": "execute_result"
    }
   ],
   "source": [
    "#list the parameters the random search found to be the best\n",
    "rnd_search.best_params_"
   ]
  },
  {
   "cell_type": "markdown",
   "metadata": {},
   "source": [
    "### Confirm that Tuning Produces a Better Result  "
   ]
  },
  {
   "cell_type": "markdown",
   "metadata": {},
   "source": [
    "<font color=red>THIS WILL TAKE TIME"
   ]
  },
  {
   "cell_type": "code",
   "execution_count": 39,
   "metadata": {},
   "outputs": [
    {
     "data": {
      "text/plain": [
       "array([-49127.92809937, -48296.15191449, -48063.78140575, -49631.24824523,\n",
       "       -50586.31018982])"
      ]
     },
     "execution_count": 39,
     "metadata": {},
     "output_type": "execute_result"
    }
   ],
   "source": [
    "# create a new Random Forest Regressor with the best parameters  \n",
    "forest_reg = RandomForestRegressor(**rnd_search.best_params_, random_state=42)\n",
    "scores = cross_val_score(forest_reg, housing_prepared, housing_labels,\n",
    "                         scoring=\"neg_root_mean_squared_error\", cv=5)\n",
    "\n",
    "# look at the results of each fold\n",
    "scores"
   ]
  },
  {
   "cell_type": "code",
   "execution_count": 40,
   "metadata": {},
   "outputs": [
    {
     "name": "stdout",
     "output_type": "stream",
     "text": [
      "Average of RMSE across folds: $49,141\n",
      "Standard deviation: 917\n"
     ]
    }
   ],
   "source": [
    "print(\"Average of RMSE across folds: ${:,.0f}\".format(-scores.mean()))\n",
    "print(\"Standard deviation: {:,.0f}\".format( scores.std() ) )"
   ]
  },
  {
   "cell_type": "markdown",
   "metadata": {},
   "source": [
    "#### The best model results so far!"
   ]
  },
  {
   "cell_type": "markdown",
   "metadata": {},
   "source": [
    "### <font color=blue>Analyze Feature Importance"
   ]
  },
  {
   "cell_type": "code",
   "execution_count": 41,
   "metadata": {},
   "outputs": [
    {
     "data": {
      "text/plain": [
       "array([7.08332485e-02, 6.41611629e-02, 4.34835623e-02, 1.63834877e-02,\n",
       "       1.57201462e-02, 1.60205209e-02, 1.52522766e-02, 3.40594035e-01,\n",
       "       5.97790861e-02, 1.10543409e-01, 7.24146564e-02, 9.10871538e-03,\n",
       "       1.58986256e-01, 7.77987535e-05, 2.94732290e-03, 3.69431512e-03])"
      ]
     },
     "execution_count": 41,
     "metadata": {},
     "output_type": "execute_result"
    }
   ],
   "source": [
    "#still working with the Random Forest Regressor model as it it is \"the best\" performing model\n",
    "\n",
    "#get the features importance from the last random CV\n",
    "feature_importances = rnd_search.best_estimator_.feature_importances_\n",
    "feature_importances"
   ]
  },
  {
   "cell_type": "markdown",
   "metadata": {},
   "source": [
    "<font color=red>The values tell us nothing without the associated attributes."
   ]
  },
  {
   "cell_type": "code",
   "execution_count": 42,
   "metadata": {},
   "outputs": [
    {
     "data": {
      "text/plain": [
       "[(0.34059403452409215, 'median_income'),\n",
       " (0.15898625646709086, 'ocean_proximity_INLAND'),\n",
       " (0.11054340934748115, 'population_per_household'),\n",
       " (0.07241465638050859, 'bedrooms_per_room'),\n",
       " (0.07083324851774955, 'longitude'),\n",
       " (0.06416116289932089, 'latitude'),\n",
       " (0.05977908606487608, 'rooms_per_household'),\n",
       " (0.04348356225643111, 'housing_median_age'),\n",
       " (0.016383487663536384, 'total_rooms'),\n",
       " (0.01602052088989179, 'population'),\n",
       " (0.015720146212569126, 'total_bedrooms'),\n",
       " (0.015252276618024613, 'households'),\n",
       " (0.00910871538470401, 'ocean_proximity_<1H OCEAN'),\n",
       " (0.003694315119938403, 'ocean_proximity_NEAR OCEAN'),\n",
       " (0.0029473229002742146, 'ocean_proximity_NEAR BAY'),\n",
       " (7.77987535111078e-05, 'ocean_proximity_ISLAND')]"
      ]
     },
     "execution_count": 42,
     "metadata": {},
     "output_type": "execute_result"
    }
   ],
   "source": [
    "#list attributes with their importance (as determined by the model)\n",
    "sorted(zip(feature_importances, attributes), reverse=True)"
   ]
  },
  {
   "cell_type": "markdown",
   "metadata": {},
   "source": [
    "<font color=red>From this we can see that getting rid of the last 3 attributes (and maybe even more) would have little impact on the model."
   ]
  },
  {
   "cell_type": "markdown",
   "metadata": {},
   "source": [
    "### <font color=blue>Evaluate on the Test Set"
   ]
  },
  {
   "cell_type": "code",
   "execution_count": 43,
   "metadata": {},
   "outputs": [],
   "source": [
    "#taking the best model so far and making it our final model\n",
    "final_model = rnd_search.best_estimator_"
   ]
  },
  {
   "cell_type": "code",
   "execution_count": 44,
   "metadata": {},
   "outputs": [
    {
     "name": "stdout",
     "output_type": "stream",
     "text": [
      "TEST Predition Error (RMSE): $46,999\n"
     ]
    }
   ],
   "source": [
    "#predict the test data set\n",
    "predictions = final_model.predict(X_test)\n",
    "\n",
    "#measure performance\n",
    "rmse = mean_squared_error(y_test, predictions, squared=False)\n",
    "print(\"TEST Predition Error (RMSE): ${:,.0f}\".format(rmse))"
   ]
  },
  {
   "cell_type": "code",
   "execution_count": 45,
   "metadata": {},
   "outputs": [
    {
     "name": "stdout",
     "output_type": "stream",
     "text": [
      "95% Confidence Intervals: 45,022.52 -- 48,896.55\n"
     ]
    }
   ],
   "source": [
    "#We can compute a 95% confidence interval for the test RMSE\n",
    "confidence = 0.95\n",
    "squared_errors = (predictions - y_test) ** 2\n",
    "confidence_interval = np.sqrt(stats.t.interval(confidence, len(squared_errors) - 1, \n",
    "                                               loc=squared_errors.mean(), scale=stats.sem(squared_errors)))\n",
    "print( \"{:.0f}% Confidence Intervals: {:,.2f} -- {:,.2f}\".format(confidence*100, confidence_interval[0], confidence_interval[1]) )"
   ]
  }
 ],
 "metadata": {
  "kernelspec": {
   "display_name": "Python 3 (ipykernel)",
   "language": "python",
   "name": "python3"
  },
  "language_info": {
   "codemirror_mode": {
    "name": "ipython",
    "version": 3
   },
   "file_extension": ".py",
   "mimetype": "text/x-python",
   "name": "python",
   "nbconvert_exporter": "python",
   "pygments_lexer": "ipython3",
   "version": "3.9.13"
  }
 },
 "nbformat": 4,
 "nbformat_minor": 4
}
